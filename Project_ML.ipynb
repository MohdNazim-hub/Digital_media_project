{
 "cells": [
  {
   "cell_type": "code",
   "execution_count": 1,
   "metadata": {},
   "outputs": [],
   "source": [
    "import numpy as np\n",
    "import pandas as pd\n",
    "import matplotlib.pyplot as plt\n",
    "import seaborn as sns\n",
    "import warnings\n",
    "warnings.filterwarnings(\"ignore\")\n",
    "import random as rd # generating random numbers\n",
    "import datetime\n",
    "from sklearn import preprocessing"
   ]
  },
  {
   "cell_type": "code",
   "execution_count": 2,
   "metadata": {},
   "outputs": [
    {
     "data": {
      "text/html": [
       "<div>\n",
       "<style scoped>\n",
       "    .dataframe tbody tr th:only-of-type {\n",
       "        vertical-align: middle;\n",
       "    }\n",
       "\n",
       "    .dataframe tbody tr th {\n",
       "        vertical-align: top;\n",
       "    }\n",
       "\n",
       "    .dataframe thead th {\n",
       "        text-align: right;\n",
       "    }\n",
       "</style>\n",
       "<table border=\"1\" class=\"dataframe\">\n",
       "  <thead>\n",
       "    <tr style=\"text-align: right;\">\n",
       "      <th></th>\n",
       "      <th>Date</th>\n",
       "      <th>Views_show</th>\n",
       "      <th>Visitors</th>\n",
       "      <th>Views_platform</th>\n",
       "      <th>Ad_impression</th>\n",
       "      <th>Cricket_match_india</th>\n",
       "      <th>Character_A</th>\n",
       "    </tr>\n",
       "  </thead>\n",
       "  <tbody>\n",
       "    <tr>\n",
       "      <th>0</th>\n",
       "      <td>03-01-2017</td>\n",
       "      <td>183738</td>\n",
       "      <td>1260228.0</td>\n",
       "      <td>1706478.0</td>\n",
       "      <td>1.060860e+09</td>\n",
       "      <td>0.0</td>\n",
       "      <td>0.0</td>\n",
       "    </tr>\n",
       "    <tr>\n",
       "      <th>1</th>\n",
       "      <td>03-02-2017</td>\n",
       "      <td>193763</td>\n",
       "      <td>1270561.0</td>\n",
       "      <td>1690727.0</td>\n",
       "      <td>1.031847e+09</td>\n",
       "      <td>0.0</td>\n",
       "      <td>0.0</td>\n",
       "    </tr>\n",
       "    <tr>\n",
       "      <th>2</th>\n",
       "      <td>03-03-2017</td>\n",
       "      <td>210479</td>\n",
       "      <td>1248183.0</td>\n",
       "      <td>1726157.0</td>\n",
       "      <td>1.010868e+09</td>\n",
       "      <td>0.0</td>\n",
       "      <td>0.0</td>\n",
       "    </tr>\n",
       "    <tr>\n",
       "      <th>3</th>\n",
       "      <td>03-04-2017</td>\n",
       "      <td>240061</td>\n",
       "      <td>1492913.0</td>\n",
       "      <td>1855353.0</td>\n",
       "      <td>1.079195e+09</td>\n",
       "      <td>1.0</td>\n",
       "      <td>0.0</td>\n",
       "    </tr>\n",
       "    <tr>\n",
       "      <th>4</th>\n",
       "      <td>03-05-2017</td>\n",
       "      <td>446314</td>\n",
       "      <td>1594712.0</td>\n",
       "      <td>2041418.0</td>\n",
       "      <td>1.357737e+09</td>\n",
       "      <td>0.0</td>\n",
       "      <td>0.0</td>\n",
       "    </tr>\n",
       "  </tbody>\n",
       "</table>\n",
       "</div>"
      ],
      "text/plain": [
       "         Date Views_show   Visitors  Views_platform  Ad_impression  \\\n",
       "0  03-01-2017     183738  1260228.0       1706478.0   1.060860e+09   \n",
       "1  03-02-2017     193763  1270561.0       1690727.0   1.031847e+09   \n",
       "2  03-03-2017     210479  1248183.0       1726157.0   1.010868e+09   \n",
       "3  03-04-2017     240061  1492913.0       1855353.0   1.079195e+09   \n",
       "4  03-05-2017     446314  1594712.0       2041418.0   1.357737e+09   \n",
       "\n",
       "   Cricket_match_india  Character_A  \n",
       "0                  0.0          0.0  \n",
       "1                  0.0          0.0  \n",
       "2                  0.0          0.0  \n",
       "3                  1.0          0.0  \n",
       "4                  0.0          0.0  "
      ]
     },
     "execution_count": 2,
     "metadata": {},
     "output_type": "execute_result"
    }
   ],
   "source": [
    "dataset=pd.read_csv('E:/csv/mediacompany.csv')\n",
    "dataset.head()"
   ]
  },
  {
   "cell_type": "code",
   "execution_count": 3,
   "metadata": {},
   "outputs": [
    {
     "data": {
      "text/html": [
       "<div>\n",
       "<style scoped>\n",
       "    .dataframe tbody tr th:only-of-type {\n",
       "        vertical-align: middle;\n",
       "    }\n",
       "\n",
       "    .dataframe tbody tr th {\n",
       "        vertical-align: top;\n",
       "    }\n",
       "\n",
       "    .dataframe thead th {\n",
       "        text-align: right;\n",
       "    }\n",
       "</style>\n",
       "<table border=\"1\" class=\"dataframe\">\n",
       "  <thead>\n",
       "    <tr style=\"text-align: right;\">\n",
       "      <th></th>\n",
       "      <th>Date</th>\n",
       "      <th>Views_show</th>\n",
       "      <th>Visitors</th>\n",
       "      <th>Views_platform</th>\n",
       "      <th>Ad_impression</th>\n",
       "      <th>Cricket_match_india</th>\n",
       "      <th>Character_A</th>\n",
       "    </tr>\n",
       "  </thead>\n",
       "  <tbody>\n",
       "    <tr>\n",
       "      <th>78</th>\n",
       "      <td>5/18/2017</td>\n",
       "      <td>135871</td>\n",
       "      <td>1749654.0</td>\n",
       "      <td>2302789.0</td>\n",
       "      <td>1.284860e+09</td>\n",
       "      <td>1.0</td>\n",
       "      <td>0.0</td>\n",
       "    </tr>\n",
       "    <tr>\n",
       "      <th>79</th>\n",
       "      <td>5/19/2017</td>\n",
       "      <td>108961</td>\n",
       "      <td>1746735.0</td>\n",
       "      <td>2279036.0</td>\n",
       "      <td>1.246027e+09</td>\n",
       "      <td>1.0</td>\n",
       "      <td>0.0</td>\n",
       "    </tr>\n",
       "    <tr>\n",
       "      <th>80</th>\n",
       "      <td>NaN</td>\n",
       "      <td>NaN</td>\n",
       "      <td>NaN</td>\n",
       "      <td>NaN</td>\n",
       "      <td>NaN</td>\n",
       "      <td>NaN</td>\n",
       "      <td>NaN</td>\n",
       "    </tr>\n",
       "    <tr>\n",
       "      <th>81</th>\n",
       "      <td>Variable</td>\n",
       "      <td>Explaination</td>\n",
       "      <td>NaN</td>\n",
       "      <td>NaN</td>\n",
       "      <td>NaN</td>\n",
       "      <td>NaN</td>\n",
       "      <td>NaN</td>\n",
       "    </tr>\n",
       "    <tr>\n",
       "      <th>82</th>\n",
       "      <td>Views_show</td>\n",
       "      <td>Number of times the show was viewed</td>\n",
       "      <td>NaN</td>\n",
       "      <td>NaN</td>\n",
       "      <td>NaN</td>\n",
       "      <td>NaN</td>\n",
       "      <td>NaN</td>\n",
       "    </tr>\n",
       "    <tr>\n",
       "      <th>83</th>\n",
       "      <td>Visitors</td>\n",
       "      <td>Number of visitors who browsed the platform, b...</td>\n",
       "      <td>NaN</td>\n",
       "      <td>NaN</td>\n",
       "      <td>NaN</td>\n",
       "      <td>NaN</td>\n",
       "      <td>NaN</td>\n",
       "    </tr>\n",
       "    <tr>\n",
       "      <th>84</th>\n",
       "      <td>Views_platform</td>\n",
       "      <td>Number of times a video was viewed on the plat...</td>\n",
       "      <td>NaN</td>\n",
       "      <td>NaN</td>\n",
       "      <td>NaN</td>\n",
       "      <td>NaN</td>\n",
       "      <td>NaN</td>\n",
       "    </tr>\n",
       "    <tr>\n",
       "      <th>85</th>\n",
       "      <td>Ad_impression</td>\n",
       "      <td>Proxy for marketing budget. Represents number ...</td>\n",
       "      <td>NaN</td>\n",
       "      <td>NaN</td>\n",
       "      <td>NaN</td>\n",
       "      <td>NaN</td>\n",
       "      <td>NaN</td>\n",
       "    </tr>\n",
       "    <tr>\n",
       "      <th>86</th>\n",
       "      <td>Cricket_match_india</td>\n",
       "      <td>If a cricket match was being played. 1 indicat...</td>\n",
       "      <td>NaN</td>\n",
       "      <td>NaN</td>\n",
       "      <td>NaN</td>\n",
       "      <td>NaN</td>\n",
       "      <td>NaN</td>\n",
       "    </tr>\n",
       "    <tr>\n",
       "      <th>87</th>\n",
       "      <td>Character_A</td>\n",
       "      <td>Describes presence of Character A. 1 indicates...</td>\n",
       "      <td>NaN</td>\n",
       "      <td>NaN</td>\n",
       "      <td>NaN</td>\n",
       "      <td>NaN</td>\n",
       "      <td>NaN</td>\n",
       "    </tr>\n",
       "  </tbody>\n",
       "</table>\n",
       "</div>"
      ],
      "text/plain": [
       "                   Date                                         Views_show  \\\n",
       "78            5/18/2017                                             135871   \n",
       "79            5/19/2017                                             108961   \n",
       "80                  NaN                                                NaN   \n",
       "81             Variable                                       Explaination   \n",
       "82           Views_show                Number of times the show was viewed   \n",
       "83             Visitors  Number of visitors who browsed the platform, b...   \n",
       "84       Views_platform  Number of times a video was viewed on the plat...   \n",
       "85        Ad_impression  Proxy for marketing budget. Represents number ...   \n",
       "86  Cricket_match_india  If a cricket match was being played. 1 indicat...   \n",
       "87          Character_A  Describes presence of Character A. 1 indicates...   \n",
       "\n",
       "     Visitors  Views_platform  Ad_impression  Cricket_match_india  Character_A  \n",
       "78  1749654.0       2302789.0   1.284860e+09                  1.0          0.0  \n",
       "79  1746735.0       2279036.0   1.246027e+09                  1.0          0.0  \n",
       "80        NaN             NaN            NaN                  NaN          NaN  \n",
       "81        NaN             NaN            NaN                  NaN          NaN  \n",
       "82        NaN             NaN            NaN                  NaN          NaN  \n",
       "83        NaN             NaN            NaN                  NaN          NaN  \n",
       "84        NaN             NaN            NaN                  NaN          NaN  \n",
       "85        NaN             NaN            NaN                  NaN          NaN  \n",
       "86        NaN             NaN            NaN                  NaN          NaN  \n",
       "87        NaN             NaN            NaN                  NaN          NaN  "
      ]
     },
     "execution_count": 3,
     "metadata": {},
     "output_type": "execute_result"
    }
   ],
   "source": [
    "dataset.tail(10)"
   ]
  },
  {
   "cell_type": "code",
   "execution_count": 4,
   "metadata": {},
   "outputs": [
    {
     "data": {
      "text/html": [
       "<div>\n",
       "<style scoped>\n",
       "    .dataframe tbody tr th:only-of-type {\n",
       "        vertical-align: middle;\n",
       "    }\n",
       "\n",
       "    .dataframe tbody tr th {\n",
       "        vertical-align: top;\n",
       "    }\n",
       "\n",
       "    .dataframe thead th {\n",
       "        text-align: right;\n",
       "    }\n",
       "</style>\n",
       "<table border=\"1\" class=\"dataframe\">\n",
       "  <thead>\n",
       "    <tr style=\"text-align: right;\">\n",
       "      <th></th>\n",
       "      <th>Date</th>\n",
       "      <th>Views_show</th>\n",
       "      <th>Visitors</th>\n",
       "      <th>Views_platform</th>\n",
       "      <th>Ad_impression</th>\n",
       "      <th>Cricket_match_india</th>\n",
       "      <th>Character_A</th>\n",
       "    </tr>\n",
       "  </thead>\n",
       "  <tbody>\n",
       "    <tr>\n",
       "      <th>75</th>\n",
       "      <td>5/15/2017</td>\n",
       "      <td>313945</td>\n",
       "      <td>1808684.0</td>\n",
       "      <td>2226788.0</td>\n",
       "      <td>1.398053e+09</td>\n",
       "      <td>1.0</td>\n",
       "      <td>0.0</td>\n",
       "    </tr>\n",
       "    <tr>\n",
       "      <th>76</th>\n",
       "      <td>5/16/2017</td>\n",
       "      <td>185689</td>\n",
       "      <td>1814227.0</td>\n",
       "      <td>2199844.0</td>\n",
       "      <td>1.311961e+09</td>\n",
       "      <td>1.0</td>\n",
       "      <td>0.0</td>\n",
       "    </tr>\n",
       "    <tr>\n",
       "      <th>77</th>\n",
       "      <td>5/17/2017</td>\n",
       "      <td>142260</td>\n",
       "      <td>1755803.0</td>\n",
       "      <td>2225752.0</td>\n",
       "      <td>1.248266e+09</td>\n",
       "      <td>1.0</td>\n",
       "      <td>0.0</td>\n",
       "    </tr>\n",
       "    <tr>\n",
       "      <th>78</th>\n",
       "      <td>5/18/2017</td>\n",
       "      <td>135871</td>\n",
       "      <td>1749654.0</td>\n",
       "      <td>2302789.0</td>\n",
       "      <td>1.284860e+09</td>\n",
       "      <td>1.0</td>\n",
       "      <td>0.0</td>\n",
       "    </tr>\n",
       "    <tr>\n",
       "      <th>79</th>\n",
       "      <td>5/19/2017</td>\n",
       "      <td>108961</td>\n",
       "      <td>1746735.0</td>\n",
       "      <td>2279036.0</td>\n",
       "      <td>1.246027e+09</td>\n",
       "      <td>1.0</td>\n",
       "      <td>0.0</td>\n",
       "    </tr>\n",
       "  </tbody>\n",
       "</table>\n",
       "</div>"
      ],
      "text/plain": [
       "         Date Views_show   Visitors  Views_platform  Ad_impression  \\\n",
       "75  5/15/2017     313945  1808684.0       2226788.0   1.398053e+09   \n",
       "76  5/16/2017     185689  1814227.0       2199844.0   1.311961e+09   \n",
       "77  5/17/2017     142260  1755803.0       2225752.0   1.248266e+09   \n",
       "78  5/18/2017     135871  1749654.0       2302789.0   1.284860e+09   \n",
       "79  5/19/2017     108961  1746735.0       2279036.0   1.246027e+09   \n",
       "\n",
       "    Cricket_match_india  Character_A  \n",
       "75                  1.0          0.0  \n",
       "76                  1.0          0.0  \n",
       "77                  1.0          0.0  \n",
       "78                  1.0          0.0  \n",
       "79                  1.0          0.0  "
      ]
     },
     "execution_count": 4,
     "metadata": {},
     "output_type": "execute_result"
    }
   ],
   "source": [
    "df=dataset.dropna()\n",
    "df.tail()"
   ]
  },
  {
   "cell_type": "code",
   "execution_count": 5,
   "metadata": {},
   "outputs": [
    {
     "name": "stdout",
     "output_type": "stream",
     "text": [
      "<class 'pandas.core.frame.DataFrame'>\n",
      "Int64Index: 80 entries, 0 to 79\n",
      "Data columns (total 7 columns):\n",
      " #   Column               Non-Null Count  Dtype  \n",
      "---  ------               --------------  -----  \n",
      " 0   Date                 80 non-null     object \n",
      " 1   Views_show           80 non-null     object \n",
      " 2   Visitors             80 non-null     float64\n",
      " 3   Views_platform       80 non-null     float64\n",
      " 4   Ad_impression        80 non-null     float64\n",
      " 5   Cricket_match_india  80 non-null     float64\n",
      " 6   Character_A          80 non-null     float64\n",
      "dtypes: float64(5), object(2)\n",
      "memory usage: 5.0+ KB\n"
     ]
    }
   ],
   "source": [
    "#check NAN value and length of data\n",
    "df.info()"
   ]
  },
  {
   "cell_type": "code",
   "execution_count": 6,
   "metadata": {},
   "outputs": [
    {
     "data": {
      "text/html": [
       "<div>\n",
       "<style scoped>\n",
       "    .dataframe tbody tr th:only-of-type {\n",
       "        vertical-align: middle;\n",
       "    }\n",
       "\n",
       "    .dataframe tbody tr th {\n",
       "        vertical-align: top;\n",
       "    }\n",
       "\n",
       "    .dataframe thead th {\n",
       "        text-align: right;\n",
       "    }\n",
       "</style>\n",
       "<table border=\"1\" class=\"dataframe\">\n",
       "  <thead>\n",
       "    <tr style=\"text-align: right;\">\n",
       "      <th></th>\n",
       "      <th>Date</th>\n",
       "      <th>Views_show</th>\n",
       "      <th>Visitors</th>\n",
       "      <th>Views_platform</th>\n",
       "      <th>Ad_impression</th>\n",
       "      <th>Cricket_match_india</th>\n",
       "      <th>Character_A</th>\n",
       "    </tr>\n",
       "  </thead>\n",
       "  <tbody>\n",
       "    <tr>\n",
       "      <th>0</th>\n",
       "      <td>2017-03-01</td>\n",
       "      <td>183738</td>\n",
       "      <td>1260228.0</td>\n",
       "      <td>1706478.0</td>\n",
       "      <td>1.060860e+09</td>\n",
       "      <td>0.0</td>\n",
       "      <td>0.0</td>\n",
       "    </tr>\n",
       "    <tr>\n",
       "      <th>1</th>\n",
       "      <td>2017-03-02</td>\n",
       "      <td>193763</td>\n",
       "      <td>1270561.0</td>\n",
       "      <td>1690727.0</td>\n",
       "      <td>1.031847e+09</td>\n",
       "      <td>0.0</td>\n",
       "      <td>0.0</td>\n",
       "    </tr>\n",
       "    <tr>\n",
       "      <th>2</th>\n",
       "      <td>2017-03-03</td>\n",
       "      <td>210479</td>\n",
       "      <td>1248183.0</td>\n",
       "      <td>1726157.0</td>\n",
       "      <td>1.010868e+09</td>\n",
       "      <td>0.0</td>\n",
       "      <td>0.0</td>\n",
       "    </tr>\n",
       "    <tr>\n",
       "      <th>3</th>\n",
       "      <td>2017-03-04</td>\n",
       "      <td>240061</td>\n",
       "      <td>1492913.0</td>\n",
       "      <td>1855353.0</td>\n",
       "      <td>1.079195e+09</td>\n",
       "      <td>1.0</td>\n",
       "      <td>0.0</td>\n",
       "    </tr>\n",
       "    <tr>\n",
       "      <th>4</th>\n",
       "      <td>2017-03-05</td>\n",
       "      <td>446314</td>\n",
       "      <td>1594712.0</td>\n",
       "      <td>2041418.0</td>\n",
       "      <td>1.357737e+09</td>\n",
       "      <td>0.0</td>\n",
       "      <td>0.0</td>\n",
       "    </tr>\n",
       "  </tbody>\n",
       "</table>\n",
       "</div>"
      ],
      "text/plain": [
       "        Date Views_show   Visitors  Views_platform  Ad_impression  \\\n",
       "0 2017-03-01     183738  1260228.0       1706478.0   1.060860e+09   \n",
       "1 2017-03-02     193763  1270561.0       1690727.0   1.031847e+09   \n",
       "2 2017-03-03     210479  1248183.0       1726157.0   1.010868e+09   \n",
       "3 2017-03-04     240061  1492913.0       1855353.0   1.079195e+09   \n",
       "4 2017-03-05     446314  1594712.0       2041418.0   1.357737e+09   \n",
       "\n",
       "   Cricket_match_india  Character_A  \n",
       "0                  0.0          0.0  \n",
       "1                  0.0          0.0  \n",
       "2                  0.0          0.0  \n",
       "3                  1.0          0.0  \n",
       "4                  0.0          0.0  "
      ]
     },
     "execution_count": 6,
     "metadata": {},
     "output_type": "execute_result"
    }
   ],
   "source": [
    "df['Date']=pd.to_datetime(df['Date'])\n",
    "df.head()"
   ]
  },
  {
   "cell_type": "code",
   "execution_count": 7,
   "metadata": {},
   "outputs": [],
   "source": [
    "df['Views_show']=df['Views_show'].astype('float')"
   ]
  },
  {
   "cell_type": "code",
   "execution_count": 8,
   "metadata": {},
   "outputs": [
    {
     "data": {
      "text/html": [
       "<div>\n",
       "<style scoped>\n",
       "    .dataframe tbody tr th:only-of-type {\n",
       "        vertical-align: middle;\n",
       "    }\n",
       "\n",
       "    .dataframe tbody tr th {\n",
       "        vertical-align: top;\n",
       "    }\n",
       "\n",
       "    .dataframe thead th {\n",
       "        text-align: right;\n",
       "    }\n",
       "</style>\n",
       "<table border=\"1\" class=\"dataframe\">\n",
       "  <thead>\n",
       "    <tr style=\"text-align: right;\">\n",
       "      <th></th>\n",
       "      <th>Views_show</th>\n",
       "      <th>Visitors</th>\n",
       "      <th>Views_platform</th>\n",
       "      <th>Ad_impression</th>\n",
       "      <th>Cricket_match_india</th>\n",
       "      <th>Character_A</th>\n",
       "    </tr>\n",
       "  </thead>\n",
       "  <tbody>\n",
       "    <tr>\n",
       "      <th>count</th>\n",
       "      <td>80.000000</td>\n",
       "      <td>8.000000e+01</td>\n",
       "      <td>8.000000e+01</td>\n",
       "      <td>8.000000e+01</td>\n",
       "      <td>80.000000</td>\n",
       "      <td>80.000000</td>\n",
       "    </tr>\n",
       "    <tr>\n",
       "      <th>mean</th>\n",
       "      <td>289902.625000</td>\n",
       "      <td>1.699066e+06</td>\n",
       "      <td>2.222401e+06</td>\n",
       "      <td>1.442374e+09</td>\n",
       "      <td>0.100000</td>\n",
       "      <td>0.375000</td>\n",
       "    </tr>\n",
       "    <tr>\n",
       "      <th>std</th>\n",
       "      <td>154924.323585</td>\n",
       "      <td>2.311571e+05</td>\n",
       "      <td>2.913510e+05</td>\n",
       "      <td>2.983186e+08</td>\n",
       "      <td>0.301893</td>\n",
       "      <td>0.487177</td>\n",
       "    </tr>\n",
       "    <tr>\n",
       "      <th>min</th>\n",
       "      <td>102520.000000</td>\n",
       "      <td>1.248183e+06</td>\n",
       "      <td>1.690727e+06</td>\n",
       "      <td>1.010868e+09</td>\n",
       "      <td>0.000000</td>\n",
       "      <td>0.000000</td>\n",
       "    </tr>\n",
       "    <tr>\n",
       "      <th>25%</th>\n",
       "      <td>185353.250000</td>\n",
       "      <td>1.550766e+06</td>\n",
       "      <td>2.010816e+06</td>\n",
       "      <td>1.207911e+09</td>\n",
       "      <td>0.000000</td>\n",
       "      <td>0.000000</td>\n",
       "    </tr>\n",
       "    <tr>\n",
       "      <th>50%</th>\n",
       "      <td>235807.000000</td>\n",
       "      <td>1.698843e+06</td>\n",
       "      <td>2.226270e+06</td>\n",
       "      <td>1.385931e+09</td>\n",
       "      <td>0.000000</td>\n",
       "      <td>0.000000</td>\n",
       "    </tr>\n",
       "    <tr>\n",
       "      <th>75%</th>\n",
       "      <td>350079.000000</td>\n",
       "      <td>1.817895e+06</td>\n",
       "      <td>2.388837e+06</td>\n",
       "      <td>1.632416e+09</td>\n",
       "      <td>0.000000</td>\n",
       "      <td>1.000000</td>\n",
       "    </tr>\n",
       "    <tr>\n",
       "      <th>max</th>\n",
       "      <td>758631.000000</td>\n",
       "      <td>2.344650e+06</td>\n",
       "      <td>3.064422e+06</td>\n",
       "      <td>2.424203e+09</td>\n",
       "      <td>1.000000</td>\n",
       "      <td>1.000000</td>\n",
       "    </tr>\n",
       "  </tbody>\n",
       "</table>\n",
       "</div>"
      ],
      "text/plain": [
       "          Views_show      Visitors  Views_platform  Ad_impression  \\\n",
       "count      80.000000  8.000000e+01    8.000000e+01   8.000000e+01   \n",
       "mean   289902.625000  1.699066e+06    2.222401e+06   1.442374e+09   \n",
       "std    154924.323585  2.311571e+05    2.913510e+05   2.983186e+08   \n",
       "min    102520.000000  1.248183e+06    1.690727e+06   1.010868e+09   \n",
       "25%    185353.250000  1.550766e+06    2.010816e+06   1.207911e+09   \n",
       "50%    235807.000000  1.698843e+06    2.226270e+06   1.385931e+09   \n",
       "75%    350079.000000  1.817895e+06    2.388837e+06   1.632416e+09   \n",
       "max    758631.000000  2.344650e+06    3.064422e+06   2.424203e+09   \n",
       "\n",
       "       Cricket_match_india  Character_A  \n",
       "count            80.000000    80.000000  \n",
       "mean              0.100000     0.375000  \n",
       "std               0.301893     0.487177  \n",
       "min               0.000000     0.000000  \n",
       "25%               0.000000     0.000000  \n",
       "50%               0.000000     0.000000  \n",
       "75%               0.000000     1.000000  \n",
       "max               1.000000     1.000000  "
      ]
     },
     "execution_count": 8,
     "metadata": {},
     "output_type": "execute_result"
    }
   ],
   "source": [
    "df.describe()"
   ]
  },
  {
   "cell_type": "code",
   "execution_count": 9,
   "metadata": {},
   "outputs": [
    {
     "data": {
      "image/png": "[encoded data removed]",
      "text/plain": [
       "<Figure size 432x288 with 1 Axes>"
      ]
     },
     "metadata": {
      "needs_background": "light"
     },
     "output_type": "display_data"
    }
   ],
   "source": [
    "sns.countplot(x='Cricket_match_india',data=df)\n",
    "plt.show()"
   ]
  },
  {
   "cell_type": "code",
   "execution_count": 10,
   "metadata": {},
   "outputs": [
    {
     "data": {
      "text/html": [
       "<div>\n",
       "<style scoped>\n",
       "    .dataframe tbody tr th:only-of-type {\n",
       "        vertical-align: middle;\n",
       "    }\n",
       "\n",
       "    .dataframe tbody tr th {\n",
       "        vertical-align: top;\n",
       "    }\n",
       "\n",
       "    .dataframe thead th {\n",
       "        text-align: right;\n",
       "    }\n",
       "</style>\n",
       "<table border=\"1\" class=\"dataframe\">\n",
       "  <thead>\n",
       "    <tr style=\"text-align: right;\">\n",
       "      <th></th>\n",
       "      <th>Character_A</th>\n",
       "      <th>count</th>\n",
       "    </tr>\n",
       "  </thead>\n",
       "  <tbody>\n",
       "    <tr>\n",
       "      <th>0</th>\n",
       "      <td>0.0</td>\n",
       "      <td>50</td>\n",
       "    </tr>\n",
       "    <tr>\n",
       "      <th>1</th>\n",
       "      <td>1.0</td>\n",
       "      <td>30</td>\n",
       "    </tr>\n",
       "  </tbody>\n",
       "</table>\n",
       "</div>"
      ],
      "text/plain": [
       "   Character_A  count\n",
       "0          0.0     50\n",
       "1          1.0     30"
      ]
     },
     "execution_count": 10,
     "metadata": {},
     "output_type": "execute_result"
    }
   ],
   "source": [
    "df.loc[:,\"Character_A\"].value_counts().reset_index().rename(columns={'Character_A':'count','index':'Character_A'})"
   ]
  },
  {
   "cell_type": "code",
   "execution_count": 11,
   "metadata": {},
   "outputs": [
    {
     "data": {
      "image/png": "[encoded data removed]",
      "text/plain": [
       "<Figure size 432x288 with 1 Axes>"
      ]
     },
     "metadata": {
      "needs_background": "light"
     },
     "output_type": "display_data"
    }
   ],
   "source": [
    "sns.lineplot(\"Visitors\",\"Views_platform\",data=df)\n",
    "plt.show()"
   ]
  },
  {
   "cell_type": "code",
   "execution_count": 12,
   "metadata": {},
   "outputs": [
    {
     "data": {
      "text/html": [
       "<div>\n",
       "<style scoped>\n",
       "    .dataframe tbody tr th:only-of-type {\n",
       "        vertical-align: middle;\n",
       "    }\n",
       "\n",
       "    .dataframe tbody tr th {\n",
       "        vertical-align: top;\n",
       "    }\n",
       "\n",
       "    .dataframe thead th {\n",
       "        text-align: right;\n",
       "    }\n",
       "</style>\n",
       "<table border=\"1\" class=\"dataframe\">\n",
       "  <thead>\n",
       "    <tr style=\"text-align: right;\">\n",
       "      <th></th>\n",
       "      <th>Date</th>\n",
       "      <th>Views_show</th>\n",
       "      <th>Visitors</th>\n",
       "      <th>Views_platform</th>\n",
       "      <th>Ad_impression</th>\n",
       "      <th>Cricket_match_india</th>\n",
       "      <th>Character_A</th>\n",
       "    </tr>\n",
       "  </thead>\n",
       "  <tbody>\n",
       "    <tr>\n",
       "      <th>0</th>\n",
       "      <td>2017-03-01</td>\n",
       "      <td>183738.0</td>\n",
       "      <td>1260228.0</td>\n",
       "      <td>1706478.0</td>\n",
       "      <td>1.060860e+09</td>\n",
       "      <td>0.0</td>\n",
       "      <td>0.0</td>\n",
       "    </tr>\n",
       "    <tr>\n",
       "      <th>1</th>\n",
       "      <td>2017-03-02</td>\n",
       "      <td>193763.0</td>\n",
       "      <td>1270561.0</td>\n",
       "      <td>1690727.0</td>\n",
       "      <td>1.031847e+09</td>\n",
       "      <td>0.0</td>\n",
       "      <td>0.0</td>\n",
       "    </tr>\n",
       "    <tr>\n",
       "      <th>2</th>\n",
       "      <td>2017-03-03</td>\n",
       "      <td>210479.0</td>\n",
       "      <td>1248183.0</td>\n",
       "      <td>1726157.0</td>\n",
       "      <td>1.010868e+09</td>\n",
       "      <td>0.0</td>\n",
       "      <td>0.0</td>\n",
       "    </tr>\n",
       "    <tr>\n",
       "      <th>3</th>\n",
       "      <td>2017-03-04</td>\n",
       "      <td>240061.0</td>\n",
       "      <td>1492913.0</td>\n",
       "      <td>1855353.0</td>\n",
       "      <td>1.079195e+09</td>\n",
       "      <td>1.0</td>\n",
       "      <td>0.0</td>\n",
       "    </tr>\n",
       "    <tr>\n",
       "      <th>4</th>\n",
       "      <td>2017-03-05</td>\n",
       "      <td>446314.0</td>\n",
       "      <td>1594712.0</td>\n",
       "      <td>2041418.0</td>\n",
       "      <td>1.357737e+09</td>\n",
       "      <td>0.0</td>\n",
       "      <td>0.0</td>\n",
       "    </tr>\n",
       "    <tr>\n",
       "      <th>...</th>\n",
       "      <td>...</td>\n",
       "      <td>...</td>\n",
       "      <td>...</td>\n",
       "      <td>...</td>\n",
       "      <td>...</td>\n",
       "      <td>...</td>\n",
       "      <td>...</td>\n",
       "    </tr>\n",
       "    <tr>\n",
       "      <th>75</th>\n",
       "      <td>2017-05-15</td>\n",
       "      <td>313945.0</td>\n",
       "      <td>1808684.0</td>\n",
       "      <td>2226788.0</td>\n",
       "      <td>1.398053e+09</td>\n",
       "      <td>1.0</td>\n",
       "      <td>0.0</td>\n",
       "    </tr>\n",
       "    <tr>\n",
       "      <th>76</th>\n",
       "      <td>2017-05-16</td>\n",
       "      <td>185689.0</td>\n",
       "      <td>1814227.0</td>\n",
       "      <td>2199844.0</td>\n",
       "      <td>1.311961e+09</td>\n",
       "      <td>1.0</td>\n",
       "      <td>0.0</td>\n",
       "    </tr>\n",
       "    <tr>\n",
       "      <th>77</th>\n",
       "      <td>2017-05-17</td>\n",
       "      <td>142260.0</td>\n",
       "      <td>1755803.0</td>\n",
       "      <td>2225752.0</td>\n",
       "      <td>1.248266e+09</td>\n",
       "      <td>1.0</td>\n",
       "      <td>0.0</td>\n",
       "    </tr>\n",
       "    <tr>\n",
       "      <th>78</th>\n",
       "      <td>2017-05-18</td>\n",
       "      <td>135871.0</td>\n",
       "      <td>1749654.0</td>\n",
       "      <td>2302789.0</td>\n",
       "      <td>1.284860e+09</td>\n",
       "      <td>1.0</td>\n",
       "      <td>0.0</td>\n",
       "    </tr>\n",
       "    <tr>\n",
       "      <th>79</th>\n",
       "      <td>2017-05-19</td>\n",
       "      <td>108961.0</td>\n",
       "      <td>1746735.0</td>\n",
       "      <td>2279036.0</td>\n",
       "      <td>1.246027e+09</td>\n",
       "      <td>1.0</td>\n",
       "      <td>0.0</td>\n",
       "    </tr>\n",
       "  </tbody>\n",
       "</table>\n",
       "<p>80 rows × 7 columns</p>\n",
       "</div>"
      ],
      "text/plain": [
       "         Date  Views_show   Visitors  Views_platform  Ad_impression  \\\n",
       "0  2017-03-01    183738.0  1260228.0       1706478.0   1.060860e+09   \n",
       "1  2017-03-02    193763.0  1270561.0       1690727.0   1.031847e+09   \n",
       "2  2017-03-03    210479.0  1248183.0       1726157.0   1.010868e+09   \n",
       "3  2017-03-04    240061.0  1492913.0       1855353.0   1.079195e+09   \n",
       "4  2017-03-05    446314.0  1594712.0       2041418.0   1.357737e+09   \n",
       "..        ...         ...        ...             ...            ...   \n",
       "75 2017-05-15    313945.0  1808684.0       2226788.0   1.398053e+09   \n",
       "76 2017-05-16    185689.0  1814227.0       2199844.0   1.311961e+09   \n",
       "77 2017-05-17    142260.0  1755803.0       2225752.0   1.248266e+09   \n",
       "78 2017-05-18    135871.0  1749654.0       2302789.0   1.284860e+09   \n",
       "79 2017-05-19    108961.0  1746735.0       2279036.0   1.246027e+09   \n",
       "\n",
       "    Cricket_match_india  Character_A  \n",
       "0                   0.0          0.0  \n",
       "1                   0.0          0.0  \n",
       "2                   0.0          0.0  \n",
       "3                   1.0          0.0  \n",
       "4                   0.0          0.0  \n",
       "..                  ...          ...  \n",
       "75                  1.0          0.0  \n",
       "76                  1.0          0.0  \n",
       "77                  1.0          0.0  \n",
       "78                  1.0          0.0  \n",
       "79                  1.0          0.0  \n",
       "\n",
       "[80 rows x 7 columns]"
      ]
     },
     "execution_count": 12,
     "metadata": {},
     "output_type": "execute_result"
    }
   ],
   "source": [
    "df"
   ]
  },
  {
   "cell_type": "code",
   "execution_count": 13,
   "metadata": {},
   "outputs": [],
   "source": [
    "df['Month']=df['Date'].dt.month"
   ]
  },
  {
   "cell_type": "code",
   "execution_count": 14,
   "metadata": {},
   "outputs": [],
   "source": [
    "monthly_views=df.groupby(['Month'])['Date','Ad_impression','Views_show','Cricket_match_india','Visitors','Views_platform',\n",
    "'Character_A'].agg({'Date':['min','max'],'Views_show':['min','max','mean'],'Visitors':'mean','Views_platform':'mean','Ad_impression':\"mean\",\n",
    "                    'Cricket_match_india':\"sum\",'Character_A':\"sum\"})"
   ]
  },
  {
   "cell_type": "code",
   "execution_count": 15,
   "metadata": {},
   "outputs": [
    {
     "data": {
      "text/html": [
       "<div>\n",
       "<style scoped>\n",
       "    .dataframe tbody tr th:only-of-type {\n",
       "        vertical-align: middle;\n",
       "    }\n",
       "\n",
       "    .dataframe tbody tr th {\n",
       "        vertical-align: top;\n",
       "    }\n",
       "\n",
       "    .dataframe thead tr th {\n",
       "        text-align: left;\n",
       "    }\n",
       "\n",
       "    .dataframe thead tr:last-of-type th {\n",
       "        text-align: right;\n",
       "    }\n",
       "</style>\n",
       "<table border=\"1\" class=\"dataframe\">\n",
       "  <thead>\n",
       "    <tr>\n",
       "      <th></th>\n",
       "      <th colspan=\"2\" halign=\"left\">Date</th>\n",
       "      <th colspan=\"3\" halign=\"left\">Views_show</th>\n",
       "      <th>Visitors</th>\n",
       "      <th>Views_platform</th>\n",
       "      <th>Ad_impression</th>\n",
       "      <th>Cricket_match_india</th>\n",
       "      <th>Character_A</th>\n",
       "    </tr>\n",
       "    <tr>\n",
       "      <th></th>\n",
       "      <th>min</th>\n",
       "      <th>max</th>\n",
       "      <th>min</th>\n",
       "      <th>max</th>\n",
       "      <th>mean</th>\n",
       "      <th>mean</th>\n",
       "      <th>mean</th>\n",
       "      <th>mean</th>\n",
       "      <th>sum</th>\n",
       "      <th>sum</th>\n",
       "    </tr>\n",
       "    <tr>\n",
       "      <th>Month</th>\n",
       "      <th></th>\n",
       "      <th></th>\n",
       "      <th></th>\n",
       "      <th></th>\n",
       "      <th></th>\n",
       "      <th></th>\n",
       "      <th></th>\n",
       "      <th></th>\n",
       "      <th></th>\n",
       "      <th></th>\n",
       "    </tr>\n",
       "  </thead>\n",
       "  <tbody>\n",
       "    <tr>\n",
       "      <th>3</th>\n",
       "      <td>2017-03-01</td>\n",
       "      <td>2017-03-31</td>\n",
       "      <td>132409.0</td>\n",
       "      <td>650563.0</td>\n",
       "      <td>273731.774194</td>\n",
       "      <td>1.491389e+06</td>\n",
       "      <td>1.956131e+06</td>\n",
       "      <td>1.362974e+09</td>\n",
       "      <td>1.0</td>\n",
       "      <td>7.0</td>\n",
       "    </tr>\n",
       "    <tr>\n",
       "      <th>4</th>\n",
       "      <td>2017-04-01</td>\n",
       "      <td>2017-04-30</td>\n",
       "      <td>162815.0</td>\n",
       "      <td>758631.0</td>\n",
       "      <td>344193.033333</td>\n",
       "      <td>1.826540e+06</td>\n",
       "      <td>2.449883e+06</td>\n",
       "      <td>1.596313e+09</td>\n",
       "      <td>0.0</td>\n",
       "      <td>23.0</td>\n",
       "    </tr>\n",
       "    <tr>\n",
       "      <th>5</th>\n",
       "      <td>2017-05-01</td>\n",
       "      <td>2017-05-19</td>\n",
       "      <td>102520.0</td>\n",
       "      <td>631962.0</td>\n",
       "      <td>230564.947368</td>\n",
       "      <td>1.836633e+06</td>\n",
       "      <td>2.297659e+06</td>\n",
       "      <td>1.328860e+09</td>\n",
       "      <td>7.0</td>\n",
       "      <td>0.0</td>\n",
       "    </tr>\n",
       "  </tbody>\n",
       "</table>\n",
       "</div>"
      ],
      "text/plain": [
       "            Date            Views_show                               Visitors  \\\n",
       "             min        max        min       max           mean          mean   \n",
       "Month                                                                           \n",
       "3     2017-03-01 2017-03-31   132409.0  650563.0  273731.774194  1.491389e+06   \n",
       "4     2017-04-01 2017-04-30   162815.0  758631.0  344193.033333  1.826540e+06   \n",
       "5     2017-05-01 2017-05-19   102520.0  631962.0  230564.947368  1.836633e+06   \n",
       "\n",
       "      Views_platform Ad_impression Cricket_match_india Character_A  \n",
       "                mean          mean                 sum         sum  \n",
       "Month                                                               \n",
       "3       1.956131e+06  1.362974e+09                 1.0         7.0  \n",
       "4       2.449883e+06  1.596313e+09                 0.0        23.0  \n",
       "5       2.297659e+06  1.328860e+09                 7.0         0.0  "
      ]
     },
     "execution_count": 15,
     "metadata": {},
     "output_type": "execute_result"
    }
   ],
   "source": [
    "monthly_views.head()"
   ]
  },
  {
   "cell_type": "code",
   "execution_count": 16,
   "metadata": {},
   "outputs": [],
   "source": [
    "# It can be seen in fifth month views_show decreased,Cricket_match_india increased,Character_A decreased"
   ]
  },
  {
   "cell_type": "code",
   "execution_count": 17,
   "metadata": {},
   "outputs": [
    {
     "data": {
      "image/png": "[encoded data removed]",
      "text/plain": [
       "<Figure size 1152x432 with 1 Axes>"
      ]
     },
     "metadata": {
      "needs_background": "light"
     },
     "output_type": "display_data"
    }
   ],
   "source": [
    "m=df.groupby(['Date'])['Views_show'].sum()\n",
    "plt.figure(figsize=(16,6))\n",
    "plt.title(\"Views per Month\")\n",
    "plt.xlabel(\"month\")\n",
    "plt.ylabel(\"views on show\")\n",
    "plt.plot(m)\n",
    "plt.show()"
   ]
  },
  {
   "cell_type": "code",
   "execution_count": 18,
   "metadata": {},
   "outputs": [
    {
     "data": {
      "image/png": "[encoded data removed]",
      "text/plain": [
       "<Figure size 1152x432 with 1 Axes>"
      ]
     },
     "metadata": {
      "needs_background": "light"
     },
     "output_type": "display_data"
    }
   ],
   "source": [
    "plt.figure(figsize=(16,6))\n",
    "sns.scatterplot(\"Date\",\"Views_show\",data=df,hue=\"Ad_impression\",style=\"Character_A\",s=80)\n",
    "plt.show()"
   ]
  },
  {
   "cell_type": "code",
   "execution_count": 19,
   "metadata": {},
   "outputs": [],
   "source": [
    "df=df.drop(['Month'],axis=1)"
   ]
  },
  {
   "cell_type": "code",
   "execution_count": 20,
   "metadata": {},
   "outputs": [
    {
     "data": {
      "text/html": [
       "<div>\n",
       "<style scoped>\n",
       "    .dataframe tbody tr th:only-of-type {\n",
       "        vertical-align: middle;\n",
       "    }\n",
       "\n",
       "    .dataframe tbody tr th {\n",
       "        vertical-align: top;\n",
       "    }\n",
       "\n",
       "    .dataframe thead th {\n",
       "        text-align: right;\n",
       "    }\n",
       "</style>\n",
       "<table border=\"1\" class=\"dataframe\">\n",
       "  <thead>\n",
       "    <tr style=\"text-align: right;\">\n",
       "      <th></th>\n",
       "      <th>Views_show</th>\n",
       "      <th>Visitors</th>\n",
       "      <th>Views_platform</th>\n",
       "      <th>Ad_impression</th>\n",
       "      <th>Cricket_match_india</th>\n",
       "      <th>Character_A</th>\n",
       "    </tr>\n",
       "  </thead>\n",
       "  <tbody>\n",
       "    <tr>\n",
       "      <th>0</th>\n",
       "      <td>0.123787</td>\n",
       "      <td>0.010985</td>\n",
       "      <td>0.011466</td>\n",
       "      <td>0.035372</td>\n",
       "      <td>0.0</td>\n",
       "      <td>0.0</td>\n",
       "    </tr>\n",
       "    <tr>\n",
       "      <th>1</th>\n",
       "      <td>0.139066</td>\n",
       "      <td>0.020409</td>\n",
       "      <td>0.000000</td>\n",
       "      <td>0.014844</td>\n",
       "      <td>0.0</td>\n",
       "      <td>0.0</td>\n",
       "    </tr>\n",
       "    <tr>\n",
       "      <th>2</th>\n",
       "      <td>0.164544</td>\n",
       "      <td>0.000000</td>\n",
       "      <td>0.025792</td>\n",
       "      <td>0.000000</td>\n",
       "      <td>0.0</td>\n",
       "      <td>0.0</td>\n",
       "    </tr>\n",
       "    <tr>\n",
       "      <th>3</th>\n",
       "      <td>0.209631</td>\n",
       "      <td>0.223199</td>\n",
       "      <td>0.119842</td>\n",
       "      <td>0.048345</td>\n",
       "      <td>1.0</td>\n",
       "      <td>0.0</td>\n",
       "    </tr>\n",
       "    <tr>\n",
       "      <th>4</th>\n",
       "      <td>0.523988</td>\n",
       "      <td>0.316041</td>\n",
       "      <td>0.255290</td>\n",
       "      <td>0.245426</td>\n",
       "      <td>0.0</td>\n",
       "      <td>0.0</td>\n",
       "    </tr>\n",
       "    <tr>\n",
       "      <th>...</th>\n",
       "      <td>...</td>\n",
       "      <td>...</td>\n",
       "      <td>...</td>\n",
       "      <td>...</td>\n",
       "      <td>...</td>\n",
       "      <td>...</td>\n",
       "    </tr>\n",
       "    <tr>\n",
       "      <th>75</th>\n",
       "      <td>0.322240</td>\n",
       "      <td>0.511188</td>\n",
       "      <td>0.390233</td>\n",
       "      <td>0.273951</td>\n",
       "      <td>1.0</td>\n",
       "      <td>0.0</td>\n",
       "    </tr>\n",
       "    <tr>\n",
       "      <th>76</th>\n",
       "      <td>0.126761</td>\n",
       "      <td>0.516244</td>\n",
       "      <td>0.370619</td>\n",
       "      <td>0.213038</td>\n",
       "      <td>1.0</td>\n",
       "      <td>0.0</td>\n",
       "    </tr>\n",
       "    <tr>\n",
       "      <th>77</th>\n",
       "      <td>0.060569</td>\n",
       "      <td>0.462960</td>\n",
       "      <td>0.389479</td>\n",
       "      <td>0.167971</td>\n",
       "      <td>1.0</td>\n",
       "      <td>0.0</td>\n",
       "    </tr>\n",
       "    <tr>\n",
       "      <th>78</th>\n",
       "      <td>0.050831</td>\n",
       "      <td>0.457352</td>\n",
       "      <td>0.445559</td>\n",
       "      <td>0.193862</td>\n",
       "      <td>1.0</td>\n",
       "      <td>0.0</td>\n",
       "    </tr>\n",
       "    <tr>\n",
       "      <th>79</th>\n",
       "      <td>0.009817</td>\n",
       "      <td>0.454689</td>\n",
       "      <td>0.428268</td>\n",
       "      <td>0.166386</td>\n",
       "      <td>1.0</td>\n",
       "      <td>0.0</td>\n",
       "    </tr>\n",
       "  </tbody>\n",
       "</table>\n",
       "<p>80 rows × 6 columns</p>\n",
       "</div>"
      ],
      "text/plain": [
       "    Views_show  Visitors  Views_platform  Ad_impression  Cricket_match_india  \\\n",
       "0     0.123787  0.010985        0.011466       0.035372                  0.0   \n",
       "1     0.139066  0.020409        0.000000       0.014844                  0.0   \n",
       "2     0.164544  0.000000        0.025792       0.000000                  0.0   \n",
       "3     0.209631  0.223199        0.119842       0.048345                  1.0   \n",
       "4     0.523988  0.316041        0.255290       0.245426                  0.0   \n",
       "..         ...       ...             ...            ...                  ...   \n",
       "75    0.322240  0.511188        0.390233       0.273951                  1.0   \n",
       "76    0.126761  0.516244        0.370619       0.213038                  1.0   \n",
       "77    0.060569  0.462960        0.389479       0.167971                  1.0   \n",
       "78    0.050831  0.457352        0.445559       0.193862                  1.0   \n",
       "79    0.009817  0.454689        0.428268       0.166386                  1.0   \n",
       "\n",
       "    Character_A  \n",
       "0           0.0  \n",
       "1           0.0  \n",
       "2           0.0  \n",
       "3           0.0  \n",
       "4           0.0  \n",
       "..          ...  \n",
       "75          0.0  \n",
       "76          0.0  \n",
       "77          0.0  \n",
       "78          0.0  \n",
       "79          0.0  \n",
       "\n",
       "[80 rows x 6 columns]"
      ]
     },
     "execution_count": 20,
     "metadata": {},
     "output_type": "execute_result"
    }
   ],
   "source": [
    "scaler = preprocessing.MinMaxScaler()\n",
    "new_df = scaler.fit_transform(df[['Views_show','Visitors','Views_platform','Ad_impression','Cricket_match_india','Character_A']])\n",
    "new_df = pd.DataFrame(new_df, columns =['Views_show','Visitors','Views_platform','Ad_impression','Cricket_match_india','Character_A'])\n",
    "new_df "
   ]
  },
  {
   "cell_type": "code",
   "execution_count": 21,
   "metadata": {},
   "outputs": [
    {
     "data": {
      "image/png": "[encoded data removed]",
      "text/plain": [
       "<Figure size 1080x1080 with 42 Axes>"
      ]
     },
     "metadata": {
      "needs_background": "light"
     },
     "output_type": "display_data"
    }
   ],
   "source": [
    "sns.pairplot(new_df)\n",
    "plt.show()"
   ]
  },
  {
   "cell_type": "code",
   "execution_count": 22,
   "metadata": {},
   "outputs": [
    {
     "data": {
      "image/png": "[encoded data removed]",
      "text/plain": [
       "<Figure size 432x288 with 2 Axes>"
      ]
     },
     "metadata": {
      "needs_background": "light"
     },
     "output_type": "display_data"
    }
   ],
   "source": [
    "sns.heatmap(new_df.corr(), annot=True)\n",
    "plt.show()"
   ]
  },
  {
   "cell_type": "code",
   "execution_count": 23,
   "metadata": {},
   "outputs": [],
   "source": [
    "#It can be seen views of show is correlated with advertisement,Character_A"
   ]
  },
  {
   "cell_type": "code",
   "execution_count": 24,
   "metadata": {},
   "outputs": [],
   "source": [
    "x=new_df.iloc[:,2:]\n",
    "y=new_df.iloc[:,1]"
   ]
  },
  {
   "cell_type": "code",
   "execution_count": 25,
   "metadata": {},
   "outputs": [],
   "source": [
    "from sklearn.model_selection import train_test_split\n",
    "x_train,x_test,y_train,y_test=train_test_split(x,y,test_size=.2,random_state=32)"
   ]
  },
  {
   "cell_type": "markdown",
   "metadata": {},
   "source": [
    "## Linear Regression"
   ]
  },
  {
   "cell_type": "code",
   "execution_count": 26,
   "metadata": {},
   "outputs": [
    {
     "data": {
      "text/plain": [
       "LinearRegression()"
      ]
     },
     "execution_count": 26,
     "metadata": {},
     "output_type": "execute_result"
    }
   ],
   "source": [
    "from sklearn.linear_model import LinearRegression\n",
    "rgu=LinearRegression()\n",
    "rgu.fit(x_train,y_train)"
   ]
  },
  {
   "cell_type": "code",
   "execution_count": 27,
   "metadata": {},
   "outputs": [
    {
     "data": {
      "text/plain": [
       "array([0.26032627, 0.11884949, 0.1202581 , 0.5460931 , 0.03912431,\n",
       "       0.57744558, 0.31996985, 0.25800554, 0.89829427, 0.13446121,\n",
       "       0.52091983, 0.42167741, 0.62050556, 0.48336256, 0.50129545,\n",
       "       0.54933903])"
      ]
     },
     "execution_count": 27,
     "metadata": {},
     "output_type": "execute_result"
    }
   ],
   "source": [
    "y_pred=rgu.predict(x_test)\n",
    "y_pred"
   ]
  },
  {
   "cell_type": "code",
   "execution_count": 28,
   "metadata": {},
   "outputs": [
    {
     "data": {
      "text/plain": [
       "21    0.206039\n",
       "8     0.088689\n",
       "7     0.096036\n",
       "25    0.616401\n",
       "1     0.020409\n",
       "56    0.547368\n",
       "31    0.398242\n",
       "23    0.194365\n",
       "46    0.709478\n",
       "12    0.173926\n",
       "69    0.522435\n",
       "58    0.436780\n",
       "55    0.620733\n",
       "77    0.462960\n",
       "44    0.409928\n",
       "48    0.514335\n",
       "Name: Visitors, dtype: float64"
      ]
     },
     "execution_count": 28,
     "metadata": {},
     "output_type": "execute_result"
    }
   ],
   "source": [
    "y_test"
   ]
  },
  {
   "cell_type": "code",
   "execution_count": 29,
   "metadata": {},
   "outputs": [
    {
     "data": {
      "image/png": "[encoded data removed]",
      "text/plain": [
       "<Figure size 432x288 with 1 Axes>"
      ]
     },
     "metadata": {
      "needs_background": "light"
     },
     "output_type": "display_data"
    }
   ],
   "source": [
    "plt.scatter(y_test,y_pred,color='red')\n",
    "plt.show()"
   ]
  },
  {
   "cell_type": "code",
   "execution_count": 30,
   "metadata": {},
   "outputs": [
    {
     "data": {
      "text/plain": [
       "0.9027575161982618"
      ]
     },
     "execution_count": 30,
     "metadata": {},
     "output_type": "execute_result"
    }
   ],
   "source": [
    "rgu.score(x_test,y_test)"
   ]
  },
  {
   "cell_type": "code",
   "execution_count": 31,
   "metadata": {},
   "outputs": [
    {
     "name": "stdout",
     "output_type": "stream",
     "text": [
      "0.03856905391799598\n",
      "[ 1.0462811   0.03740706  0.03100598 -0.11314779]\n"
     ]
    }
   ],
   "source": [
    "print(rgu.intercept_)\n",
    "print(rgu.coef_)"
   ]
  },
  {
   "cell_type": "code",
   "execution_count": 32,
   "metadata": {},
   "outputs": [
    {
     "data": {
      "text/plain": [
       "<AxesSubplot:ylabel='Density'>"
      ]
     },
     "execution_count": 32,
     "metadata": {},
     "output_type": "execute_result"
    },
    {
     "data": {
      "image/png": "[encoded data removed]",
      "text/plain": [
       "<Figure size 432x288 with 1 Axes>"
      ]
     },
     "metadata": {
      "needs_background": "light"
     },
     "output_type": "display_data"
    }
   ],
   "source": [
    "sns.distplot((y_pred),bins=50)"
   ]
  },
  {
   "cell_type": "code",
   "execution_count": 33,
   "metadata": {},
   "outputs": [],
   "source": [
    "from sklearn import metrics"
   ]
  },
  {
   "cell_type": "code",
   "execution_count": 34,
   "metadata": {},
   "outputs": [
    {
     "name": "stdout",
     "output_type": "stream",
     "text": [
      "MAE: 0.047598995107351674\n",
      "MSE: 0.004265460244872764\n",
      "RMSE: 0.06531049107817796\n"
     ]
    }
   ],
   "source": [
    "print(\"MAE:\", metrics.mean_absolute_error(y_test,y_pred))\n",
    "print('MSE:', metrics.mean_squared_error(y_test,y_pred))\n",
    "print('RMSE:', np.sqrt(metrics.mean_squared_error(y_test,y_pred)))"
   ]
  },
  {
   "cell_type": "code",
   "execution_count": 35,
   "metadata": {},
   "outputs": [
    {
     "name": "stdout",
     "output_type": "stream",
     "text": [
      "[0.55776468 0.40953111 0.20362648 0.80229396 0.78595489]\n"
     ]
    },
    {
     "data": {
      "text/plain": [
       "0.5518342250637247"
      ]
     },
     "execution_count": 35,
     "metadata": {},
     "output_type": "execute_result"
    }
   ],
   "source": [
    "from sklearn.model_selection import cross_val_score\n",
    "a=cross_val_score(LinearRegression(),x,y,cv=5)\n",
    "print(a)\n",
    "np.mean(a)"
   ]
  },
  {
   "cell_type": "markdown",
   "metadata": {},
   "source": [
    "## Decision Tree"
   ]
  },
  {
   "cell_type": "code",
   "execution_count": 36,
   "metadata": {},
   "outputs": [
    {
     "data": {
      "text/plain": [
       "0.811164024315002"
      ]
     },
     "execution_count": 36,
     "metadata": {},
     "output_type": "execute_result"
    }
   ],
   "source": [
    "from sklearn import tree\n",
    "model=tree.DecisionTreeRegressor()\n",
    "model.fit(x_train,y_train)\n",
    "model.score(x_test,y_test)"
   ]
  },
  {
   "cell_type": "code",
   "execution_count": 37,
   "metadata": {},
   "outputs": [],
   "source": [
    "y_pred=model.predict(x_test)"
   ]
  },
  {
   "cell_type": "code",
   "execution_count": 38,
   "metadata": {},
   "outputs": [
    {
     "name": "stdout",
     "output_type": "stream",
     "text": [
      "MAE: 0.053093424152300076\n",
      "MSE: 0.008283132182517552\n",
      "RMSE: 0.09101171453454523\n"
     ]
    }
   ],
   "source": [
    "print(\"MAE:\", metrics.mean_absolute_error(y_test,y_pred))\n",
    "print('MSE:', metrics.mean_squared_error(y_test,y_pred))\n",
    "print('RMSE:', np.sqrt(metrics.mean_squared_error(y_test,y_pred)))"
   ]
  },
  {
   "cell_type": "code",
   "execution_count": 39,
   "metadata": {},
   "outputs": [
    {
     "name": "stdout",
     "output_type": "stream",
     "text": [
      "[ 0.07269328  0.67225726 -0.3505502   0.15671177  0.8143946 ]\n"
     ]
    },
    {
     "data": {
      "text/plain": [
       "0.27310134350877996"
      ]
     },
     "execution_count": 39,
     "metadata": {},
     "output_type": "execute_result"
    }
   ],
   "source": [
    "from sklearn.model_selection import cross_val_score\n",
    "a=cross_val_score(tree.DecisionTreeRegressor(),x,y,cv=5)\n",
    "print(a)\n",
    "np.mean(a)"
   ]
  },
  {
   "cell_type": "code",
   "execution_count": 40,
   "metadata": {},
   "outputs": [
    {
     "name": "stdout",
     "output_type": "stream",
     "text": [
      "{'criterion': 'friedman_mse'}\n",
      "0.33713872237628284\n"
     ]
    }
   ],
   "source": [
    "from sklearn.model_selection import GridSearchCV\n",
    "reg=GridSearchCV(tree.DecisionTreeRegressor(),{\n",
    "    \"criterion\":[\"mse\", \"friedman_mse\", \"mae\"]\n",
    "},cv=5,return_train_score=False)\n",
    "reg.fit(x,y)\n",
    "df=pd.DataFrame(reg.cv_results_)\n",
    "print(reg.best_params_)\n",
    "print(reg.best_score_)"
   ]
  },
  {
   "cell_type": "markdown",
   "metadata": {},
   "source": [
    "## Random Forest"
   ]
  },
  {
   "cell_type": "code",
   "execution_count": 41,
   "metadata": {},
   "outputs": [
    {
     "data": {
      "text/plain": [
       "0.9005879808397514"
      ]
     },
     "execution_count": 41,
     "metadata": {},
     "output_type": "execute_result"
    }
   ],
   "source": [
    "from sklearn.ensemble import RandomForestRegressor\n",
    "model= RandomForestRegressor()\n",
    "model.fit(x_train,y_train)\n",
    "model.score(x_test,y_test)"
   ]
  },
  {
   "cell_type": "code",
   "execution_count": 42,
   "metadata": {},
   "outputs": [],
   "source": [
    "y_pred=model.predict(x_test)"
   ]
  },
  {
   "cell_type": "code",
   "execution_count": 43,
   "metadata": {},
   "outputs": [
    {
     "name": "stdout",
     "output_type": "stream",
     "text": [
      "MAE: 0.04750299199611094\n",
      "MSE: 0.004360625099366191\n",
      "RMSE: 0.0660350293356957\n"
     ]
    }
   ],
   "source": [
    "print(\"MAE:\", metrics.mean_absolute_error(y_test,y_pred))\n",
    "print('MSE:', metrics.mean_squared_error(y_test,y_pred))\n",
    "print('RMSE:', np.sqrt(metrics.mean_squared_error(y_test,y_pred)))"
   ]
  },
  {
   "cell_type": "code",
   "execution_count": 44,
   "metadata": {},
   "outputs": [
    {
     "name": "stdout",
     "output_type": "stream",
     "text": [
      "[-0.74361968  0.80278317 -0.28606038  0.59939653  0.62763902]\n"
     ]
    },
    {
     "data": {
      "text/plain": [
       "0.20002773269921023"
      ]
     },
     "execution_count": 44,
     "metadata": {},
     "output_type": "execute_result"
    }
   ],
   "source": [
    "from sklearn.model_selection import cross_val_score\n",
    "a=cross_val_score(RandomForestRegressor(),x,y,cv=5)\n",
    "print(a)\n",
    "np.mean(a)"
   ]
  },
  {
   "cell_type": "code",
   "execution_count": 45,
   "metadata": {},
   "outputs": [
    {
     "name": "stdout",
     "output_type": "stream",
     "text": [
      "{'criterion': 'mae', 'n_estimators': 1}\n",
      "0.35061695066434023\n"
     ]
    }
   ],
   "source": [
    "from sklearn.model_selection import GridSearchCV\n",
    "reg=GridSearchCV(RandomForestRegressor(),{\n",
    "    \"criterion\":[\"mse\", \"mae\"],\n",
    "    \"n_estimators\":[1,100,150]\n",
    "},cv=5,return_train_score=False)\n",
    "reg.fit(x,y)\n",
    "df=pd.DataFrame(reg.cv_results_)\n",
    "print(reg.best_params_)\n",
    "print(reg.best_score_)"
   ]
  },
  {
   "cell_type": "markdown",
   "metadata": {},
   "source": [
    "##  Support Vector Machine"
   ]
  },
  {
   "cell_type": "code",
   "execution_count": 46,
   "metadata": {},
   "outputs": [
    {
     "data": {
      "text/plain": [
       "0.9073495386563383"
      ]
     },
     "execution_count": 46,
     "metadata": {},
     "output_type": "execute_result"
    }
   ],
   "source": [
    "from sklearn.svm import SVR \n",
    "model=SVR()\n",
    "model.fit(x_train,y_train)\n",
    "model.score(x_test,y_test)"
   ]
  },
  {
   "cell_type": "code",
   "execution_count": 47,
   "metadata": {},
   "outputs": [],
   "source": [
    "y_pred=model.predict(x_test)"
   ]
  },
  {
   "cell_type": "code",
   "execution_count": 48,
   "metadata": {},
   "outputs": [
    {
     "name": "stdout",
     "output_type": "stream",
     "text": [
      "MAE: 0.0523294289118139\n",
      "MSE: 0.004064035019264348\n",
      "RMSE: 0.06374978446445405\n"
     ]
    }
   ],
   "source": [
    "print(\"MAE:\", metrics.mean_absolute_error(y_test,y_pred))\n",
    "print('MSE:', metrics.mean_squared_error(y_test,y_pred))\n",
    "print('RMSE:', np.sqrt(metrics.mean_squared_error(y_test,y_pred)))"
   ]
  },
  {
   "cell_type": "code",
   "execution_count": 49,
   "metadata": {},
   "outputs": [
    {
     "name": "stdout",
     "output_type": "stream",
     "text": [
      "[-2.21145472  0.36686883  0.48169302  0.22202731 -0.015743  ]\n"
     ]
    },
    {
     "data": {
      "text/plain": [
       "-0.23132171301002105"
      ]
     },
     "execution_count": 49,
     "metadata": {},
     "output_type": "execute_result"
    }
   ],
   "source": [
    "from sklearn.model_selection import cross_val_score\n",
    "a=cross_val_score(SVR(),x,y,cv=5)\n",
    "print(a)\n",
    "np.mean(a)"
   ]
  },
  {
   "cell_type": "code",
   "execution_count": 50,
   "metadata": {},
   "outputs": [
    {
     "name": "stdout",
     "output_type": "stream",
     "text": [
      "{'C': 1, 'gamma': 'auto', 'kernel': 'linear'}\n",
      "0.46093931411603356\n"
     ]
    }
   ],
   "source": [
    "from sklearn.model_selection import GridSearchCV\n",
    "reg=GridSearchCV(SVR(),{\n",
    "    \"C\":[1,10,20],\n",
    "    \"kernel\":['rbf','linear'],\n",
    "    \"gamma\":['auto','scale']\n",
    "},cv=5,return_train_score=False)\n",
    "reg.fit(x,y)\n",
    "df=pd.DataFrame(reg.cv_results_)\n",
    "print(reg.best_params_)\n",
    "print(reg.best_score_)"
   ]
  },
  {
   "cell_type": "markdown",
   "metadata": {},
   "source": [
    "## KNN Regressor"
   ]
  },
  {
   "cell_type": "code",
   "execution_count": 51,
   "metadata": {},
   "outputs": [
    {
     "name": "stdout",
     "output_type": "stream",
     "text": [
      "RMSE value for k=  1 is: 0.10074422692985976\n",
      "RMSE value for k=  2 is: 0.07037401375662218\n",
      "RMSE value for k=  3 is: 0.050776211260106036\n",
      "RMSE value for k=  4 is: 0.047708047707782156\n",
      "RMSE value for k=  5 is: 0.05243970903684941\n",
      "RMSE value for k=  6 is: 0.05742372503159423\n",
      "RMSE value for k=  7 is: 0.061470524542591935\n",
      "RMSE value for k=  8 is: 0.05921685466309813\n",
      "RMSE value for k=  9 is: 0.06271235218819521\n",
      "RMSE value for k=  10 is: 0.06549179243284597\n",
      "RMSE value for k=  11 is: 0.07309946125567074\n",
      "RMSE value for k=  12 is: 0.07962640130999\n",
      "RMSE value for k=  13 is: 0.08827813468652614\n",
      "RMSE value for k=  14 is: 0.09263426385263795\n",
      "RMSE value for k=  15 is: 0.09739876769125742\n",
      "RMSE value for k=  16 is: 0.09779829923847892\n",
      "RMSE value for k=  17 is: 0.10258783413095217\n",
      "RMSE value for k=  18 is: 0.11056869909693923\n",
      "RMSE value for k=  19 is: 0.11395547833193646\n",
      "RMSE value for k=  20 is: 0.11930637376217601\n"
     ]
    }
   ],
   "source": [
    "from sklearn import neighbors\n",
    "rmse=[]\n",
    "for k in range(0,20):\n",
    "    k=k+1\n",
    "    model=neighbors.KNeighborsRegressor(n_neighbors=k)\n",
    "    model.fit(x_train,y_train)\n",
    "    y_pred=model.predict(x_test)\n",
    "    error=np.sqrt(metrics.mean_squared_error(y_test,y_pred))\n",
    "    rmse.append(error)\n",
    "    print('RMSE value for k= ' , k , 'is:', error)"
   ]
  },
  {
   "cell_type": "code",
   "execution_count": 52,
   "metadata": {},
   "outputs": [
    {
     "data": {
      "image/png": "[encoded data removed]",
      "text/plain": [
       "<Figure size 432x288 with 1 Axes>"
      ]
     },
     "metadata": {
      "needs_background": "light"
     },
     "output_type": "display_data"
    }
   ],
   "source": [
    "curve=pd.DataFrame(rmse)\n",
    "curve.plot()\n",
    "plt.show()"
   ]
  },
  {
   "cell_type": "code",
   "execution_count": 53,
   "metadata": {},
   "outputs": [
    {
     "data": {
      "text/plain": [
       "0.9412225515705646"
      ]
     },
     "execution_count": 53,
     "metadata": {},
     "output_type": "execute_result"
    }
   ],
   "source": [
    "model=neighbors.KNeighborsRegressor(n_neighbors=3)\n",
    "model.fit(x_train,y_train)\n",
    "y_pred=model.predict(x_test)\n",
    "model.score(x_test,y_test)"
   ]
  },
  {
   "cell_type": "code",
   "execution_count": 54,
   "metadata": {},
   "outputs": [
    {
     "name": "stdout",
     "output_type": "stream",
     "text": [
      "[-2.29588237  0.67458361  0.37270482  0.18287969  0.42389706]\n"
     ]
    },
    {
     "data": {
      "text/plain": [
       "-0.1283634355831581"
      ]
     },
     "execution_count": 54,
     "metadata": {},
     "output_type": "execute_result"
    }
   ],
   "source": [
    "from sklearn.model_selection import cross_val_score\n",
    "a=cross_val_score(neighbors.KNeighborsRegressor(n_neighbors=3),x,y,cv=5)\n",
    "print(a)\n",
    "np.mean(a)"
   ]
  },
  {
   "cell_type": "markdown",
   "metadata": {},
   "source": [
    "## Result"
   ]
  },
  {
   "cell_type": "markdown",
   "metadata": {},
   "source": [
    "* It can be said that views on show decreased mostly due to decrease in advertisement\n",
    "* Increases in cricket matches and decrease in appearance of character_A are also responsible\n",
    "* Viewership can be increased by increasing advertisement and appearance of character_A\n",
    "* Linear is giving best results with prediction score 0.55"
   ]
  },
  {
   "cell_type": "code",
   "execution_count": null,
   "metadata": {},
   "outputs": [],
   "source": []
  }
 ],
 "metadata": {
  "kernelspec": {
   "display_name": "Python 3",
   "language": "python",
   "name": "python3"
  },
  "language_info": {
   "codemirror_mode": {
    "name": "ipython",
    "version": 3
   },
   "file_extension": ".py",
   "mimetype": "text/x-python",
   "name": "python",
   "nbconvert_exporter": "python",
   "pygments_lexer": "ipython3",
   "version": "3.8.5"
  }
 },
 "nbformat": 4,
 "nbformat_minor": 4
}
